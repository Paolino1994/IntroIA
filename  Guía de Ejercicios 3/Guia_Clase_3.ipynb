{
  "nbformat": 4,
  "nbformat_minor": 0,
  "metadata": {
    "colab": {
      "name": "Guia Clase 3.ipynb",
      "provenance": [],
      "collapsed_sections": [],
      "authorship_tag": "ABX9TyMloqcN7syJj0WDg6I8oUDs",
      "include_colab_link": true
    },
    "kernelspec": {
      "name": "python3",
      "display_name": "Python 3"
    },
    "language_info": {
      "name": "python"
    }
  },
  "cells": [
    {
      "cell_type": "markdown",
      "metadata": {
        "id": "view-in-github",
        "colab_type": "text"
      },
      "source": [
        "<a href=\"https://colab.research.google.com/github/Paolino1994/IntroIA/blob/main/%20Gu%C3%ADa%20de%20Ejercicios%203/Guia_Clase_3.ipynb\" target=\"_parent\"><img src=\"https://colab.research.google.com/assets/colab-badge.svg\" alt=\"Open In Colab\"/></a>"
      ]
    },
    {
      "cell_type": "code",
      "source": [
        "import numpy as np\n",
        "from sklearn import preprocessing"
      ],
      "metadata": {
        "id": "hZZfHKapw2Oe"
      },
      "execution_count": 20,
      "outputs": []
    },
    {
      "cell_type": "markdown",
      "source": [
        "Ejecicio #1: Normalización\n",
        "\n",
        "Muchos algoritmos de Machine Learning necesitan datos de entrada centrados y normalizados. Una normalización habitual es el z-score, que implica restarle la media y dividir por el desvío a cada feature de mi dataset."
      ],
      "metadata": {
        "id": "WOjWTeIcwrj5"
      }
    },
    {
      "cell_type": "code",
      "source": [
        "def zScore(X):\n",
        "  #X=np.array(X)\n",
        "  mean=X.mean(axis=0)\n",
        "  std=X.std(axis=0)\n",
        "  return (X-mean)/std"
      ],
      "metadata": {
        "id": "67Fxp9j-ws3F"
      },
      "execution_count": 29,
      "outputs": []
    },
    {
      "cell_type": "code",
      "source": [
        "X=np.array([1,80,3,55]).reshape(2,2)\n",
        "scaler = preprocessing.StandardScaler().fit(X)\n",
        "X_scaled = scaler.transform(X)\n",
        "if(np.allclose(zScore(X),X_scaled)):\n",
        "  print(\"Scaler is working Great\")\n"
      ],
      "metadata": {
        "colab": {
          "base_uri": "https://localhost:8080/"
        },
        "id": "NVNjyaABy27z",
        "outputId": "57606f3e-bc9b-43b6-93b0-250faa6b4a4a"
      },
      "execution_count": 36,
      "outputs": [
        {
          "output_type": "execute_result",
          "data": {
            "text/plain": [
              "True"
            ]
          },
          "metadata": {},
          "execution_count": 36
        }
      ]
    },
    {
      "cell_type": "markdown",
      "source": [
        "Ejecicio #2: Remover filas y columnas con NaNs en un dataset\n",
        "\n",
        "Dado un dataset, hacer una función que, utilizando numpy, filtre las columnas y las filas que tienen NaNs."
      ],
      "metadata": {
        "id": "zr6TYdnE0-Oj"
      }
    },
    {
      "cell_type": "code",
      "source": [
        "def removeNANs(X):\n",
        "  nonNANRows=~np.isnan(X).any(axis=0)\n",
        "  X=X.T[nonNANRows].T\n",
        "  nonNANColumns=~np.isnan(X).any(axis=1)\n",
        "  X=X[nonNANColumns]\n",
        "  return X"
      ],
      "metadata": {
        "id": "4P8ql8mI1Fog"
      },
      "execution_count": 80,
      "outputs": []
    },
    {
      "cell_type": "code",
      "source": [
        "X=np.array([0,1,2,3,4,5,np.NaN,7,8]).reshape(3,3)\n",
        "print(X)\n",
        "removeNANs(X)"
      ],
      "metadata": {
        "colab": {
          "base_uri": "https://localhost:8080/"
        },
        "id": "zYxRBZEA2GqE",
        "outputId": "7e571bfa-cfd1-4436-c44c-9922db6f5edc"
      },
      "execution_count": 81,
      "outputs": [
        {
          "output_type": "stream",
          "name": "stdout",
          "text": [
            "[[ 0.  1.  2.]\n",
            " [ 3.  4.  5.]\n",
            " [nan  7.  8.]]\n"
          ]
        },
        {
          "output_type": "execute_result",
          "data": {
            "text/plain": [
              "array([[1., 2.],\n",
              "       [4., 5.],\n",
              "       [7., 8.]])"
            ]
          },
          "metadata": {},
          "execution_count": 81
        }
      ]
    },
    {
      "cell_type": "markdown",
      "source": [
        "Ejecicio #3: Reemplazar NaNs por la media de la columna\n",
        "\n",
        "Dado un dataset, hacer una función que utilizando numpy reemplace los NaNs por la media de la columna."
      ],
      "metadata": {
        "id": "HrcKmsYX3wCA"
      }
    },
    {
      "cell_type": "code",
      "source": [
        "def replaceNANs(X):\n",
        "  means=np.nanmean(X, axis=0)\n",
        "  Nans = np.where(np.isnan(X))\n",
        "  X[Nans] = np.take(means, Nans[1]) \n",
        "  return X\n"
      ],
      "metadata": {
        "id": "niabrc9f3yEq"
      },
      "execution_count": 101,
      "outputs": []
    },
    {
      "cell_type": "code",
      "source": [
        "X=np.array([0,1,2,3,4,5,np.NaN,7,8]).reshape(3,3)\n",
        "replaceNANs(X)"
      ],
      "metadata": {
        "colab": {
          "base_uri": "https://localhost:8080/"
        },
        "id": "RHmkqvwP4PAA",
        "outputId": "eee734df-28cd-46ec-a48c-c02deee35a1b"
      },
      "execution_count": 102,
      "outputs": [
        {
          "output_type": "execute_result",
          "data": {
            "text/plain": [
              "array([[0. , 1. , 2. ],\n",
              "       [3. , 4. , 5. ],\n",
              "       [1.5, 7. , 8. ]])"
            ]
          },
          "metadata": {},
          "execution_count": 102
        }
      ]
    },
    {
      "cell_type": "markdown",
      "source": [
        "Ejecicio #4: Dado un dataset X separarlo en 70 / 20 / 10\n",
        "\n",
        "Como vimos en el ejercicio integrador, en problemas de Machine Learning es fundamental que separemos los datasets de n muestras, en 3 datasets de la siguiente manera:\n",
        "\n",
        "    Training dataset: los datos que utilizaremos para entrenar nuestros modelos. Ej: 70% de las muestras.\n",
        "    Validation dataset: los datos que usamos para calcular métricas y ajustar los hiperparámetros de nuestros modelos. Ej: 20% de las muestras.\n",
        "    Testing dataset: una vez que entrenamos los modelos y encontramos los hiperparámetros óptimos de los mísmos, el testing dataset se lo utiliza para computar las métricas finales de nuestros modelos y analizar cómo se comporta respecto a la generalización. Ej: 10% de las muestras.\n",
        "\n",
        "A partir de utilizar np.random.permutation, hacer un método que dado un dataset, devuelva los 3 datasets como nuevos numpy arrays."
      ],
      "metadata": {
        "id": "brILkN8d5a5A"
      }
    },
    {
      "cell_type": "code",
      "source": [
        "def splitData(X):\n",
        "  Xrand=np.random.permutation(X)\n",
        "  trainQ=int(len(Xrand)*0.7)\n",
        "  testQ=int(len(Xrand)*0.2)+trainQ\n",
        "  valQ=len(Xrand)\n",
        "  print(trainQ,testQ,valQ)\n",
        "  return Xrand[:trainQ],Xrand[trainQ:testQ],Xrand[testQ:valQ]"
      ],
      "metadata": {
        "id": "x5nBASln5cfZ"
      },
      "execution_count": 137,
      "outputs": []
    },
    {
      "cell_type": "code",
      "source": [
        "X=np.array(range(0,300)).reshape(100,3)"
      ],
      "metadata": {
        "colab": {
          "base_uri": "https://localhost:8080/"
        },
        "id": "3H9qkCkK6O5C",
        "outputId": "525ead4c-a0ff-468f-cb25-4f2f58666d90"
      },
      "execution_count": 139,
      "outputs": [
        {
          "output_type": "stream",
          "name": "stdout",
          "text": [
            "70 90 100\n",
            "(70, 3)\n",
            "[[141 142 143]\n",
            " [267 268 269]\n",
            " [105 106 107]\n",
            " [177 178 179]\n",
            " [234 235 236]\n",
            " [261 262 263]\n",
            " [288 289 290]\n",
            " [222 223 224]\n",
            " [198 199 200]\n",
            " [189 190 191]\n",
            " [111 112 113]\n",
            " [ 69  70  71]\n",
            " [147 148 149]\n",
            " [ 66  67  68]\n",
            " [225 226 227]\n",
            " [ 57  58  59]\n",
            " [ 33  34  35]\n",
            " [276 277 278]\n",
            " [249 250 251]\n",
            " [204 205 206]\n",
            " [129 130 131]\n",
            " [150 151 152]\n",
            " [195 196 197]\n",
            " [156 157 158]\n",
            " [ 90  91  92]\n",
            " [ 60  61  62]\n",
            " [162 163 164]\n",
            " [ 24  25  26]\n",
            " [144 145 146]\n",
            " [291 292 293]\n",
            " [ 63  64  65]\n",
            " [216 217 218]\n",
            " [252 253 254]\n",
            " [ 84  85  86]\n",
            " [153 154 155]\n",
            " [  3   4   5]\n",
            " [  9  10  11]\n",
            " [171 172 173]\n",
            " [273 274 275]\n",
            " [201 202 203]\n",
            " [240 241 242]\n",
            " [ 99 100 101]\n",
            " [246 247 248]\n",
            " [213 214 215]\n",
            " [159 160 161]\n",
            " [243 244 245]\n",
            " [ 36  37  38]\n",
            " [ 15  16  17]\n",
            " [120 121 122]\n",
            " [ 48  49  50]\n",
            " [ 39  40  41]\n",
            " [258 259 260]\n",
            " [180 181 182]\n",
            " [114 115 116]\n",
            " [ 30  31  32]\n",
            " [207 208 209]\n",
            " [ 93  94  95]\n",
            " [135 136 137]\n",
            " [126 127 128]\n",
            " [ 45  46  47]\n",
            " [237 238 239]\n",
            " [219 220 221]\n",
            " [168 169 170]\n",
            " [ 72  73  74]\n",
            " [285 286 287]\n",
            " [294 295 296]\n",
            " [174 175 176]\n",
            " [ 75  76  77]\n",
            " [102 103 104]\n",
            " [210 211 212]]\n",
            "(20, 3)\n",
            "[[117 118 119]\n",
            " [270 271 272]\n",
            " [255 256 257]\n",
            " [ 18  19  20]\n",
            " [ 78  79  80]\n",
            " [231 232 233]\n",
            " [  6   7   8]\n",
            " [ 51  52  53]\n",
            " [108 109 110]\n",
            " [228 229 230]\n",
            " [165 166 167]\n",
            " [264 265 266]\n",
            " [138 139 140]\n",
            " [ 54  55  56]\n",
            " [282 283 284]\n",
            " [123 124 125]\n",
            " [  0   1   2]\n",
            " [ 27  28  29]\n",
            " [ 12  13  14]\n",
            " [132 133 134]]\n",
            "(10, 3)\n",
            "[[183 184 185]\n",
            " [ 96  97  98]\n",
            " [ 21  22  23]\n",
            " [ 81  82  83]\n",
            " [297 298 299]\n",
            " [192 193 194]\n",
            " [186 187 188]\n",
            " [ 87  88  89]\n",
            " [279 280 281]\n",
            " [ 42  43  44]]\n"
          ]
        }
      ]
    },
    {
      "cell_type": "code",
      "source": [
        ""
      ],
      "metadata": {
        "id": "UCNZCwzH7Cr_"
      },
      "execution_count": 139,
      "outputs": []
    }
  ]
}