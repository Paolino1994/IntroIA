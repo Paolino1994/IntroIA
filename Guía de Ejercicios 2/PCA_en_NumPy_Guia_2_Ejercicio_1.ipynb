{
  "cells": [
    {
      "cell_type": "markdown",
      "metadata": {
        "id": "view-in-github",
        "colab_type": "text"
      },
      "source": [
        "<a href=\"https://colab.research.google.com/github/Paolino1994/IntroIA/blob/main/Gu%C3%ADa%20de%20Ejercicios%202/PCA_en_NumPy_Guia_2_Ejercicio_1.ipynb\" target=\"_parent\"><img src=\"https://colab.research.google.com/assets/colab-badge.svg\" alt=\"Open In Colab\"/></a>"
      ]
    },
    {
      "cell_type": "markdown",
      "metadata": {
        "id": "qj4Oto1VCkgf"
      },
      "source": [
        "# Implementación de PCA en NumPy"
      ]
    },
    {
      "cell_type": "markdown",
      "metadata": {
        "id": "vWLtICmqCkgg"
      },
      "source": [
        "## Objetivos\n",
        "* Implementación de PCA en NumPy paso a paso\n",
        "* Comparación de resultados con Scikit-learn"
      ]
    },
    {
      "cell_type": "code",
      "source": [
        "import numpy as np\n",
        "from numpy.linalg import eig\n",
        "from sklearn import decomposition"
      ],
      "metadata": {
        "id": "5iS412wUCvlD"
      },
      "execution_count": 2,
      "outputs": []
    },
    {
      "cell_type": "code",
      "source": [
        ""
      ],
      "metadata": {
        "id": "yuLr_vjyFopl"
      },
      "execution_count": 2,
      "outputs": []
    },
    {
      "cell_type": "markdown",
      "metadata": {
        "id": "Y6_LVOdMCkgh"
      },
      "source": [
        "## Implementación"
      ]
    },
    {
      "cell_type": "markdown",
      "metadata": {
        "id": "QZwjgRS0Ckgi"
      },
      "source": [
        "1. Dado un dataset $X \\in \\mathbb{R}^{n, d}$, con $n$ muestras y $d$ features, queremos reducir sus dimensiones a $m$. Para ello, el primer paso es centrar el dataset (Hint: usen np.mean)"
      ]
    },
    {
      "cell_type": "code",
      "execution_count": 3,
      "metadata": {
        "colab": {
          "base_uri": "https://localhost:8080/"
        },
        "id": "nsm1REWMCkgi",
        "outputId": "f1583447-2677-4963-8ef8-6aea2da89323"
      },
      "outputs": [
        {
          "output_type": "execute_result",
          "data": {
            "text/plain": [
              "array([[ 0.425,  0.325],\n",
              "       [-0.275, -0.475]])"
            ]
          },
          "metadata": {},
          "execution_count": 3
        }
      ],
      "source": [
        "# INSERTAR CÓDIGO AQUÍ\n",
        "X = np.array( [ [0.8, 0.7] , [0.1, -0.1] ] )\n",
        "X=X-X.mean()\n",
        "X"
      ]
    },
    {
      "cell_type": "markdown",
      "metadata": {
        "id": "d3KH2bKJCkgj"
      },
      "source": [
        "2. Obtener la matriz de covarianza de $X^T$, revisar en la teoría por qué utilizamos la transpuesta. Buscar en la documentación de NumPy qué funciones se pueden utilizar."
      ]
    },
    {
      "cell_type": "code",
      "execution_count": 4,
      "metadata": {
        "id": "huoK8H5rCkgk"
      },
      "outputs": [],
      "source": [
        "covXt=np.cov(np.transpose(X))"
      ]
    },
    {
      "cell_type": "markdown",
      "metadata": {
        "id": "KbuRWeKWCkgk"
      },
      "source": [
        "3. Calcular los autovalores y autovectores de la matriz de covarianza. Revisar la documentación de NumPy."
      ]
    },
    {
      "cell_type": "code",
      "execution_count": 5,
      "metadata": {
        "colab": {
          "base_uri": "https://localhost:8080/"
        },
        "id": "sWxrb9cCCkgl",
        "outputId": "66572a02-a7b2-445b-ebef-9ee0d10de949"
      },
      "outputs": [
        {
          "output_type": "execute_result",
          "data": {
            "text/plain": [
              "(array([0.   , 0.565]), array([[-0.75257669, -0.65850461],\n",
              "        [ 0.65850461, -0.75257669]]))"
            ]
          },
          "metadata": {},
          "execution_count": 5
        }
      ],
      "source": [
        "eigValues,eigVectors=eig(covXt)\n",
        "eigValues,eigVectors\n"
      ]
    },
    {
      "cell_type": "markdown",
      "metadata": {
        "id": "TV-SmH6-Ckgm"
      },
      "source": [
        "4. Ordernar los autovectores en el sentido de los autovalores decrecientes, revisar la teoría de ser necesario."
      ]
    },
    {
      "cell_type": "code",
      "execution_count": 6,
      "metadata": {
        "id": "7_3P4e9mCkgm"
      },
      "outputs": [],
      "source": [
        "# INSERTAR CÓDIGO AQUÍ\n",
        "eigVectors=eigVectors[eigValues.argsort()]\n",
        "eigValues=eigValues[eigValues.argsort()]"
      ]
    },
    {
      "cell_type": "markdown",
      "metadata": {
        "id": "9CijlWAjCkgn"
      },
      "source": [
        "5. Proyectar el dataset centrado sobre los $m$ autovectores más relevantes (Hint: usen np.dot)."
      ]
    },
    {
      "cell_type": "code",
      "execution_count": 7,
      "metadata": {
        "colab": {
          "base_uri": "https://localhost:8080/"
        },
        "id": "Rp-hqJzZCkgn",
        "outputId": "d5b6be54-4074-49f7-ef63-8b413ebc307c"
      },
      "outputs": [
        {
          "output_type": "execute_result",
          "data": {
            "text/plain": [
              "array([[-0.1058311 , -0.1058311 ],\n",
              "       [-0.52445188,  0.5385627 ]])"
            ]
          },
          "metadata": {},
          "execution_count": 7
        }
      ],
      "source": [
        "# INSERTAR CÓDIGO AQUÍ\n",
        "P = eigVectors.T.dot(X.T)\n",
        "P"
      ]
    },
    {
      "cell_type": "markdown",
      "metadata": {
        "id": "kmn7r4EyCkgo"
      },
      "source": [
        "6. Consolidar los pasos anteriores en una función o clase PCA."
      ]
    },
    {
      "cell_type": "code",
      "execution_count": 19,
      "metadata": {
        "id": "lUViNbXkCkgo"
      },
      "outputs": [],
      "source": [
        "# INSERTAR CÓDIGO AQUÍ\n",
        "def PCA(X):\n",
        "  X=(X-np.mean(X,axis=0))/np.std(X,axis=0)\n",
        "  #X=(X-np.mean(X,axis=0))\n",
        "  covXt=np.cov(np.transpose(X))\n",
        "  eigValues,eigVectors=eig(covXt)\n",
        "  \n",
        "  order=eigValues.argsort()[::-1]\n",
        "  eigVectors=eigVectors[order]\n",
        "  eigValues=eigValues[order]\n",
        "  P = eigVectors.T.dot(X.T).T\n",
        "  return P,eigValues,eigVectors"
      ]
    },
    {
      "cell_type": "markdown",
      "metadata": {
        "id": "U5Ei-EURCkgp"
      },
      "source": [
        "7. Comparar los resultados obtenidos con el modelo de PCA implementado en Scikit-learn ([ver documentación](https://scikit-learn.org/stable/modules/generated/sklearn.decomposition.PCA.html)). Tomar como dataset:\n",
        "\n",
        "$X=\\begin{bmatrix}\n",
        "0.8 & 0.7\\\\\n",
        "0.1 & -0.1\n",
        "\\end{bmatrix}$\n",
        "\n",
        "Se debe reducir a un componente. Verificar los resultados con np.testing.assert_allclose"
      ]
    },
    {
      "cell_type": "code",
      "execution_count": 56,
      "metadata": {
        "colab": {
          "base_uri": "https://localhost:8080/"
        },
        "id": "LGqWtZhiCkgp",
        "outputId": "b809233a-a3a7-41f1-8904-9a26b2fb1588"
      },
      "outputs": [
        {
          "output_type": "stream",
          "name": "stdout",
          "text": [
            "Resultados iguales para ambas implementaciones\n"
          ]
        }
      ],
      "source": [
        "# INSERTAR CÓDIGO AQUÍ\n",
        "X = np.array( [ [0.8, 0.7] , [0.1, -0.1] ] )\n",
        "custom=PCA(X)\n",
        "pca=decomposition.PCA(n_components=2)\n",
        "pcafitted=pca.fit_transform((X-np.mean(X,axis=0))/np.std(X,axis=0))\n",
        "\n",
        "if np.allclose(-custom[0],pcafitted) or np.allclose(custom[0],pcafitted):\n",
        "  print(\"Resultados iguales para ambas implementaciones\")"
      ]
    }
  ],
  "metadata": {
    "kernelspec": {
      "display_name": "Python 3",
      "language": "python",
      "name": "python3"
    },
    "language_info": {
      "codemirror_mode": {
        "name": "ipython",
        "version": 3
      },
      "file_extension": ".py",
      "mimetype": "text/x-python",
      "name": "python",
      "nbconvert_exporter": "python",
      "pygments_lexer": "ipython3",
      "version": "3.8.3"
    },
    "colab": {
      "name": "PCA en NumPy - Guia 2 Ejercicio 1.ipynb",
      "provenance": [],
      "include_colab_link": true
    }
  },
  "nbformat": 4,
  "nbformat_minor": 0
}