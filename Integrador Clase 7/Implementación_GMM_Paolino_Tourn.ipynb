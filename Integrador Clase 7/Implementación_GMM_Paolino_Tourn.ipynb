{
  "cells": [
    {
      "cell_type": "markdown",
      "metadata": {
        "id": "view-in-github",
        "colab_type": "text"
      },
      "source": [
        "<a href=\"https://colab.research.google.com/github/Paolino1994/IntroIA/blob/main/Integrador%20Clase%207/Implementaci%C3%B3n_GMM_Paolino_Tourn.ipynb\" target=\"_parent\"><img src=\"https://colab.research.google.com/assets/colab-badge.svg\" alt=\"Open In Colab\"/></a>"
      ]
    },
    {
      "cell_type": "code",
      "source": [
        "import numpy as np\n",
        "from scipy.stats import multivariate_normal\n",
        "import pandas as pd\n",
        "from sklearn.model_selection import train_test_split\n",
        "from sklearn.decomposition import PCA"
      ],
      "metadata": {
        "id": "OPZnFk1jD_Yc"
      },
      "id": "OPZnFk1jD_Yc",
      "execution_count": 96,
      "outputs": []
    },
    {
      "cell_type": "code",
      "execution_count": 169,
      "id": "82892303",
      "metadata": {
        "id": "82892303"
      },
      "outputs": [],
      "source": [
        "class EMScalar():\n",
        "    \n",
        "    def fit(self,X,qDist=2,qIter=15): #parametros):\n",
        "        # Los parámetros deben incluir al menos:\n",
        "        #  - Alguna forma de detener la iteración\n",
        "        #  - Los datos observados\n",
        "        #  - La cantidad de distribuciones \n",
        "        \n",
        "        # Inicialización de parámetros        \n",
        "          # Inicializar las probabilidades marginales de las clases P(z)\n",
        "        self.pi=np.random.rand(qDist)\n",
        "        self.pi=self.pi/qDist\n",
        "          # Inicializar medias\n",
        "        self.mu=X.mean(axis=1)\n",
        "          # Inicializar matrices covarianza\n",
        "        #self.sigma=np.cov(X,bias=True)\n",
        "        self.sigma = np.zeros((len(X),qDist))\n",
        "        # Crear matrices place-holders para \n",
        "            # p(x|z) para cada clase z (n x k), [p(x1|z1) p(x1|z2) p(x1|z3) ..]\n",
        "            # Responsibilities\n",
        "        pxZ=np.ones((len(X),qDist))\n",
        "        # Calcular, con los parámetros iniciales, p(x|z) para todos los z\n",
        "        #Si no anda, usar con un for\n",
        "        for i in range(qDist):\n",
        "          pxZ[i]= multivariate_normal.pdf(X, mean=self.mu[i], cov=self.sigma[i])\n",
        "        \n",
        "        # Algoritmo de actualización \n",
        "        counter=0\n",
        "        reponsibilities=np.zeros((len(X),qDist))        \n",
        "        while counter<qIter:          \n",
        "          for j in range(qDist):          \n",
        "                # Responsibilities\n",
        "            reponsibilitieJ=self.pi[j]*pxZ[:,j]/np.sum(self.pi*pxZ,axis=1)\n",
        "            reponsibilities[:,j]=reponsibilitieJ\n",
        "            # Calcular Nk, este es de prueba\n",
        "            Nk=np.sum(reponsibilitieJ)\n",
        "                # Actualizar medias \n",
        "            self.mu[j]=np.sum(reponsibilitieJ*X[j])/Nk\n",
        "                # Actualizar covarianzas\n",
        "            self.sigma[j]=reponsibilitieJ*(X[:,j]-self.mu[j])*(X[:,j]-self.mu[j])/Nk\n",
        "                # Actualizar pesos de clases\n",
        "            self.pi[j]=np.mean(reponsibilitieJ)\n",
        "                # Actualizar p(x|z)\n",
        "            pxZ[j]= multivariate_normal.pdf(X, mean=self.mu[j], cov=self.sigma[j])\n",
        "\n",
        "            counter+=1\n",
        "\n",
        "    def predict(self,X): #inputs necesarios):\n",
        "        # Devuelve para cada observación la clase asignada\n",
        "        q = self.mu.shape[0]\n",
        "        N = np.zeros((X.shape[0], q))\n",
        "        E = np.zeros((X.shape[0], q))\n",
        "        \n",
        "        for i in range(q):\n",
        "            N[:, i] = multivariate_normal.pdf(X, self.mu[i, 0], self.sigma[i, 0])\n",
        "        for i in range(q):\n",
        "            E[:, i] = (self.pi[i, 0] * N[:, i]) / (N @ self.pi)[:, 0]\n",
        "        idx = np.argmax(E, axis=1)\n",
        "        return idx"
      ]
    }
  ],
  "metadata": {
    "kernelspec": {
      "display_name": "Python 3 (ipykernel)",
      "language": "python",
      "name": "python3"
    },
    "language_info": {
      "codemirror_mode": {
        "name": "ipython",
        "version": 3
      },
      "file_extension": ".py",
      "mimetype": "text/x-python",
      "name": "python",
      "nbconvert_exporter": "python",
      "pygments_lexer": "ipython3",
      "version": "3.8.10"
    },
    "colab": {
      "name": "Implementación GMM Paolino Tourn.ipynb",
      "provenance": [],
      "collapsed_sections": [],
      "include_colab_link": true
    }
  },
  "nbformat": 4,
  "nbformat_minor": 5
}